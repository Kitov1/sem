{
  "nbformat": 4,
  "nbformat_minor": 0,
  "metadata": {
    "colab": {
      "name": "Dop_Zadacha_1.ipynb",
      "provenance": [],
      "collapsed_sections": [],
      "include_colab_link": true
    },
    "kernelspec": {
      "name": "python3",
      "display_name": "Python 3"
    },
    "language_info": {
      "name": "python"
    }
  },
  "cells": [
    {
      "cell_type": "markdown",
      "metadata": {
        "id": "view-in-github",
        "colab_type": "text"
      },
      "source": [
        "<a href=\"https://colab.research.google.com/github/Kitov1/sem/blob/main/Dop_Zadacha_1.ipynb\" target=\"_parent\"><img src=\"https://colab.research.google.com/assets/colab-badge.svg\" alt=\"Open In Colab\"/></a>"
      ]
    },
    {
      "cell_type": "code",
      "metadata": {
        "id": "26248gA5pe9O"
      },
      "source": [
        "from sympy import *\n",
        "from sympy.plotting import *\n",
        "from IPython.display import display\n",
        "from sympy.utilities.lambdify import lambdify"
      ],
      "execution_count": null,
      "outputs": []
    },
    {
      "cell_type": "code",
      "metadata": {
        "id": "AtzUE_GvpqIs"
      },
      "source": [
        "t = symbols(\"t\")\n",
        "x = symbols(\"x\")"
      ],
      "execution_count": null,
      "outputs": []
    },
    {
      "cell_type": "code",
      "metadata": {
        "id": "MfZ4MQfKpu_U"
      },
      "source": [
        "H = Function(\"H\")\n",
        "V = Function(\"V\")"
      ],
      "execution_count": null,
      "outputs": []
    },
    {
      "cell_type": "code",
      "metadata": {
        "colab": {
          "base_uri": "https://localhost:8080/",
          "height": 52
        },
        "id": "AFymWUdGpykC",
        "outputId": "39dd1ce4-6358-4686-f6ff-cd0d980e9ccb"
      },
      "source": [
        "de1 = Eq(diff(V(t), t), -10)\n",
        "de1"
      ],
      "execution_count": null,
      "outputs": [
        {
          "output_type": "execute_result",
          "data": {
            "text/latex": "$\\displaystyle \\frac{d}{d t} V{\\left(t \\right)} = -10$",
            "text/plain": [
              "Eq(Derivative(V(t), t), -10)"
            ]
          },
          "metadata": {
            "tags": []
          },
          "execution_count": 4
        }
      ]
    },
    {
      "cell_type": "code",
      "metadata": {
        "colab": {
          "base_uri": "https://localhost:8080/"
        },
        "id": "7JgjwrFMp2Hv",
        "outputId": "1a4ab834-3ce3-457c-d537-a5bb2dcb9c37"
      },
      "source": [
        "res = dsolve([de1])\n",
        "res"
      ],
      "execution_count": null,
      "outputs": [
        {
          "output_type": "execute_result",
          "data": {
            "text/plain": [
              "[Eq(V(t), C1 - 10*t)]"
            ]
          },
          "metadata": {
            "tags": []
          },
          "execution_count": 5
        }
      ]
    },
    {
      "cell_type": "code",
      "metadata": {
        "colab": {
          "base_uri": "https://localhost:8080/"
        },
        "id": "959E-GHop5gR",
        "outputId": "5383f5c5-39db-4eee-9ee0-d0a3f4abe149"
      },
      "source": [
        "ur1 = x - 10*t\n",
        "res1 = solve(Eq(ur1.subs(t,0), 20))\n",
        "res1"
      ],
      "execution_count": null,
      "outputs": [
        {
          "output_type": "execute_result",
          "data": {
            "text/plain": [
              "[20]"
            ]
          },
          "metadata": {
            "tags": []
          },
          "execution_count": 6
        }
      ]
    },
    {
      "cell_type": "code",
      "metadata": {
        "colab": {
          "base_uri": "https://localhost:8080/",
          "height": 52
        },
        "id": "ltNXMvDTqDxT",
        "outputId": "334dbf95-f96a-4eed-9856-a3f0914a6261"
      },
      "source": [
        "de2 = Eq(diff(H(t), t), 20 - 10*t)\n",
        "de2"
      ],
      "execution_count": null,
      "outputs": [
        {
          "output_type": "execute_result",
          "data": {
            "text/latex": "$\\displaystyle \\frac{d}{d t} H{\\left(t \\right)} = 20 - 10 t$",
            "text/plain": [
              "Eq(Derivative(H(t), t), 20 - 10*t)"
            ]
          },
          "metadata": {
            "tags": []
          },
          "execution_count": 7
        }
      ]
    },
    {
      "cell_type": "code",
      "metadata": {
        "colab": {
          "base_uri": "https://localhost:8080/"
        },
        "id": "92rFEt-sqJDa",
        "outputId": "42121d44-753f-43ff-9343-7015c01c1e94"
      },
      "source": [
        "res2 = dsolve([de2],ics={H(0): 60})\n",
        "res2"
      ],
      "execution_count": null,
      "outputs": [
        {
          "output_type": "execute_result",
          "data": {
            "text/plain": [
              "[Eq(H(t), -5*t**2 + 20*t + 60)]"
            ]
          },
          "metadata": {
            "tags": []
          },
          "execution_count": 9
        }
      ]
    },
    {
      "cell_type": "code",
      "metadata": {
        "colab": {
          "base_uri": "https://localhost:8080/",
          "height": 37
        },
        "id": "QOZk7gQfqOrE",
        "outputId": "478b252e-6d8c-4cce-bef0-8dfc12ab364c"
      },
      "source": [
        "answ = (-5*t**2 + 20*t + 40).subs(t,2)\n",
        "answ"
      ],
      "execution_count": null,
      "outputs": [
        {
          "output_type": "execute_result",
          "data": {
            "text/latex": "$\\displaystyle 60$",
            "text/plain": [
              "60"
            ]
          },
          "metadata": {
            "tags": []
          },
          "execution_count": 10
        }
      ]
    }
  ]
}
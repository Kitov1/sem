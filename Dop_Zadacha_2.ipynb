{
  "nbformat": 4,
  "nbformat_minor": 0,
  "metadata": {
    "colab": {
      "name": "Dop_Zadacha_2.ipynb",
      "provenance": [],
      "collapsed_sections": [],
      "include_colab_link": true
    },
    "kernelspec": {
      "name": "python3",
      "display_name": "Python 3"
    },
    "language_info": {
      "name": "python"
    }
  },
  "cells": [
    {
      "cell_type": "markdown",
      "metadata": {
        "id": "view-in-github",
        "colab_type": "text"
      },
      "source": [
        "<a href=\"https://colab.research.google.com/github/Kitov1/sem/blob/main/Dop_Zadacha_2.ipynb\" target=\"_parent\"><img src=\"https://colab.research.google.com/assets/colab-badge.svg\" alt=\"Open In Colab\"/></a>"
      ]
    },
    {
      "cell_type": "code",
      "metadata": {
        "id": "n048Zq6Uw2y0"
      },
      "source": [
        "from sympy import *\n",
        "from sympy.plotting import *\n",
        "from IPython.display import display\n",
        "from sympy.utilities.lambdify import lambdify"
      ],
      "execution_count": null,
      "outputs": []
    },
    {
      "cell_type": "code",
      "metadata": {
        "id": "PjckuI7kxAOy"
      },
      "source": [
        "t = symbols(\"t\")\n",
        "x = symbols(\"x\")"
      ],
      "execution_count": null,
      "outputs": []
    },
    {
      "cell_type": "code",
      "metadata": {
        "id": "x3OB8GfBxDyh"
      },
      "source": [
        "H = Function(\"H\")\n",
        "V = Function(\"V\")"
      ],
      "execution_count": null,
      "outputs": []
    },
    {
      "cell_type": "code",
      "metadata": {
        "colab": {
          "base_uri": "https://localhost:8080/",
          "height": 52
        },
        "id": "_uCR09ATxFOK",
        "outputId": "a7504724-32e3-4009-c7d8-9aaa2fd1950f"
      },
      "source": [
        "de1 = Eq(diff(V(t), t), 9.8)\n",
        "de1"
      ],
      "execution_count": null,
      "outputs": [
        {
          "output_type": "execute_result",
          "data": {
            "text/latex": "$\\displaystyle \\frac{d}{d t} V{\\left(t \\right)} = 9.8$",
            "text/plain": [
              "Eq(Derivative(V(t), t), 9.8)"
            ]
          },
          "metadata": {
            "tags": []
          },
          "execution_count": 6
        }
      ]
    },
    {
      "cell_type": "code",
      "metadata": {
        "colab": {
          "base_uri": "https://localhost:8080/"
        },
        "id": "u_NWeOmYxGk9",
        "outputId": "07d53468-1916-49ea-88d6-89e15a965e03"
      },
      "source": [
        "res = dsolve([de1])\n",
        "res"
      ],
      "execution_count": null,
      "outputs": [
        {
          "output_type": "execute_result",
          "data": {
            "text/plain": [
              "[Eq(V(t), C1 + 9.8*t)]"
            ]
          },
          "metadata": {
            "tags": []
          },
          "execution_count": 7
        }
      ]
    },
    {
      "cell_type": "code",
      "metadata": {
        "colab": {
          "base_uri": "https://localhost:8080/"
        },
        "id": "pYP8aMwsxIbM",
        "outputId": "a3260363-062a-4196-d3e1-2b86ad64036d"
      },
      "source": [
        "ur1 = x + 9.8*t\n",
        "res1 = solve(Eq(ur1.subs(t,0), 1))\n",
        "res1"
      ],
      "execution_count": null,
      "outputs": [
        {
          "output_type": "execute_result",
          "data": {
            "text/plain": [
              "[1]"
            ]
          },
          "metadata": {
            "tags": []
          },
          "execution_count": 9
        }
      ]
    },
    {
      "cell_type": "code",
      "metadata": {
        "colab": {
          "base_uri": "https://localhost:8080/",
          "height": 52
        },
        "id": "EiRXOHovxJtA",
        "outputId": "5589d419-634f-4c56-9d6b-badf6df2b044"
      },
      "source": [
        "de2 = Eq(diff(H(t), t), 1 + 9.8*t)\n",
        "de2"
      ],
      "execution_count": null,
      "outputs": [
        {
          "output_type": "execute_result",
          "data": {
            "text/latex": "$\\displaystyle \\frac{d}{d t} H{\\left(t \\right)} = 9.8 t + 1$",
            "text/plain": [
              "Eq(Derivative(H(t), t), 9.8*t + 1)"
            ]
          },
          "metadata": {
            "tags": []
          },
          "execution_count": 10
        }
      ]
    },
    {
      "cell_type": "code",
      "metadata": {
        "colab": {
          "base_uri": "https://localhost:8080/"
        },
        "id": "qTQorpsKxLth",
        "outputId": "0e6ca347-fa3d-43d4-913f-b066dc480e43"
      },
      "source": [
        "res2 = dsolve([de2],ics={H(0): 0})\n",
        "res2"
      ],
      "execution_count": null,
      "outputs": [
        {
          "output_type": "execute_result",
          "data": {
            "text/plain": [
              "[Eq(H(t), 4.9*t**2 + 1.0*t)]"
            ]
          },
          "metadata": {
            "tags": []
          },
          "execution_count": 22
        }
      ]
    },
    {
      "cell_type": "code",
      "metadata": {
        "colab": {
          "base_uri": "https://localhost:8080/"
        },
        "id": "kfH-I8FIxPdl",
        "outputId": "d1f515f7-0b45-41c4-8f65-4d2a0b9a2e7c"
      },
      "source": [
        "expr = 4.9*t**2 + 1.0*t\n",
        "answ = solve(Eq(expr,1.95))\n",
        "answ"
      ],
      "execution_count": null,
      "outputs": [
        {
          "output_type": "execute_result",
          "data": {
            "text/plain": [
              "[-0.741080339259232, 0.536998706606170]"
            ]
          },
          "metadata": {
            "tags": []
          },
          "execution_count": 24
        }
      ]
    }
  ]
}
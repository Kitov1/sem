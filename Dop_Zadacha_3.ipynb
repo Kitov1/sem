{
  "nbformat": 4,
  "nbformat_minor": 0,
  "metadata": {
    "colab": {
      "name": "Dop_Zadacha_3.ipynb",
      "provenance": [],
      "collapsed_sections": [],
      "include_colab_link": true
    },
    "kernelspec": {
      "name": "python3",
      "display_name": "Python 3"
    },
    "language_info": {
      "name": "python"
    }
  },
  "cells": [
    {
      "cell_type": "markdown",
      "metadata": {
        "id": "view-in-github",
        "colab_type": "text"
      },
      "source": [
        "<a href=\"https://colab.research.google.com/github/Kitov1/sem/blob/main/Dop_Zadacha_3.ipynb\" target=\"_parent\"><img src=\"https://colab.research.google.com/assets/colab-badge.svg\" alt=\"Open In Colab\"/></a>"
      ]
    },
    {
      "cell_type": "code",
      "metadata": {
        "id": "NKDQ0hJg54ls"
      },
      "source": [
        "from sympy import *\n",
        "from sympy.plotting import *\n",
        "from IPython.display import display\n",
        "from sympy.utilities.lambdify import lambdify"
      ],
      "execution_count": null,
      "outputs": []
    },
    {
      "cell_type": "code",
      "metadata": {
        "id": "UPUOYILl55Eb"
      },
      "source": [
        "t = symbols(\"t\")\n",
        "x = symbols(\"x\")\n",
        "k = symbols(\"k\")\n",
        "m = symbols(\"m\")"
      ],
      "execution_count": null,
      "outputs": []
    },
    {
      "cell_type": "code",
      "metadata": {
        "id": "5EzZXpdo59XH"
      },
      "source": [
        "a = Function(\"a\")\n",
        "V = Function(\"V\")"
      ],
      "execution_count": null,
      "outputs": []
    },
    {
      "cell_type": "code",
      "metadata": {
        "colab": {
          "base_uri": "https://localhost:8080/",
          "height": 52
        },
        "id": "05fNJ-BB5-dR",
        "outputId": "6ed635b0-947c-4020-f4bc-38ad8c7f3061"
      },
      "source": [
        "de1 = Eq(diff(V(t) * m, t),-k*V(t))\n",
        "de1"
      ],
      "execution_count": null,
      "outputs": [
        {
          "output_type": "execute_result",
          "data": {
            "text/latex": "$\\displaystyle m \\frac{d}{d t} V{\\left(t \\right)} = - k V{\\left(t \\right)}$",
            "text/plain": [
              "Eq(m*Derivative(V(t), t), -k*V(t))"
            ]
          },
          "metadata": {
            "tags": []
          },
          "execution_count": 118
        }
      ]
    },
    {
      "cell_type": "code",
      "metadata": {
        "colab": {
          "base_uri": "https://localhost:8080/"
        },
        "id": "P9MHcoZl5__f",
        "outputId": "2df648c7-ee39-4877-9764-6a37d4220304"
      },
      "source": [
        "res = dsolve([de1], ics={V(0):10})\n",
        "res"
      ],
      "execution_count": null,
      "outputs": [
        {
          "output_type": "execute_result",
          "data": {
            "text/plain": [
              "[Eq(V(t), 10*exp(-k*t/m))]"
            ]
          },
          "metadata": {
            "tags": []
          },
          "execution_count": 121
        }
      ]
    },
    {
      "cell_type": "code",
      "metadata": {
        "colab": {
          "base_uri": "https://localhost:8080/",
          "height": 41
        },
        "id": "eN26SsR7G7hq",
        "outputId": "6edcca5d-14e8-453d-9601-c3240cfd9677"
      },
      "source": [
        "urav = 10*exp(-k*t/m)\n",
        "answ = Eq(urav.subs(t,20), 5)\n",
        "answ"
      ],
      "execution_count": null,
      "outputs": [
        {
          "output_type": "execute_result",
          "data": {
            "text/latex": "$\\displaystyle 10 e^{- \\frac{20 k}{m}} = 5$",
            "text/plain": [
              "Eq(10*exp(-20*k/m), 5)"
            ]
          },
          "metadata": {
            "tags": []
          },
          "execution_count": 126
        }
      ]
    },
    {
      "cell_type": "code",
      "metadata": {
        "colab": {
          "base_uri": "https://localhost:8080/",
          "height": 41
        },
        "id": "N1Fvh-JwSNoi",
        "outputId": "b3a56f58-e02c-44f4-9d43-90a0daa7a002"
      },
      "source": [
        "urav =Eq(exp(-k/m), (5/10)**(1/20))\n",
        "urav"
      ],
      "execution_count": null,
      "outputs": [
        {
          "output_type": "execute_result",
          "data": {
            "text/latex": "$\\displaystyle e^{- \\frac{k}{m}} = 0.965936328924846$",
            "text/plain": [
              "Eq(exp(-k/m), 0.965936328924846)"
            ]
          },
          "metadata": {
            "tags": []
          },
          "execution_count": 131
        }
      ]
    },
    {
      "cell_type": "code",
      "metadata": {
        "colab": {
          "base_uri": "https://localhost:8080/",
          "height": 37
        },
        "id": "JC65zZxwStJO",
        "outputId": "cfdbb7e5-cc83-47dc-fb87-8ccfc36a4af6"
      },
      "source": [
        "V= 10 *( (5/10)**(1/20))**t\n",
        "answ = V.subs(t,60)\n",
        "answ"
      ],
      "execution_count": null,
      "outputs": [
        {
          "output_type": "execute_result",
          "data": {
            "text/latex": "$\\displaystyle 1.25$",
            "text/plain": [
              "1.25000000000000"
            ]
          },
          "metadata": {
            "tags": []
          },
          "execution_count": 140
        }
      ]
    }
  ]
}